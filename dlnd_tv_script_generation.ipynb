{
 "cells": [
  {
   "cell_type": "markdown",
   "metadata": {
    "colab_type": "text",
    "id": "AW8mizbc4UN1"
   },
   "source": [
    "# TV Script Generation\n",
    "\n",
    "In this project, you'll generate your own [Seinfeld](https://en.wikipedia.org/wiki/Seinfeld) TV scripts using RNNs.  You'll be using part of the [Seinfeld dataset](https://www.kaggle.com/thec03u5/seinfeld-chronicles#scripts.csv) of scripts from 9 seasons.  The Neural Network you'll build will generate a new ,\"fake\" TV script, based on patterns it recognizes in this training data.\n",
    "\n",
    "## Get the Data\n",
    "\n",
    "The data is already provided for you in `./data/Seinfeld_Scripts.txt` and you're encouraged to open that file and look at the text. \n",
    ">* As a first step, we'll load in this data and look at some samples. \n",
    "* Then, you'll be tasked with defining and training an RNN to generate a new script!"
   ]
  },
  {
   "cell_type": "code",
   "execution_count": 1,
   "metadata": {
    "colab": {},
    "colab_type": "code",
    "id": "OfEYYEHa4UN2"
   },
   "outputs": [],
   "source": [
    "\"\"\"\n",
    "DON'T MODIFY ANYTHING IN THIS CELL\n",
    "\"\"\"\n",
    "# load in data\n",
    "import helper\n",
    "data_dir = './data/Seinfeld_Scripts.txt'\n",
    "text = helper.load_data(data_dir)"
   ]
  },
  {
   "cell_type": "markdown",
   "metadata": {
    "colab_type": "text",
    "id": "Am6em58W4UN8"
   },
   "source": [
    "## Explore the Data\n",
    "Play around with `view_line_range` to view different parts of the data. This will give you a sense of the data you'll be working with. You can see, for example, that it is all lowercase text, and each new line of dialogue is separated by a newline character `\\n`."
   ]
  },
  {
   "cell_type": "code",
   "execution_count": 2,
   "metadata": {
    "colab": {
     "base_uri": "https://localhost:8080/",
     "height": 321
    },
    "colab_type": "code",
    "id": "Ow1GDZ5V4UN8",
    "outputId": "6c561981-ecea-4f59-9642-c5bedda3f7fa"
   },
   "outputs": [
    {
     "name": "stdout",
     "output_type": "stream",
     "text": [
      "Dataset Stats\n",
      "Roughly the number of unique words: 46367\n",
      "Number of lines: 109233\n",
      "Average number of words in each line: 5.544240293684143\n",
      "\n",
      "The lines 0 to 10:\n",
      "jerry: do you know what this is all about? do you know, why were here? to be out, this is out...and out is one of the single most enjoyable experiences of life. people...did you ever hear people talking about we should go out? this is what theyre talking about...this whole thing, were all out now, no one is home. not one person here is home, were all out! there are people trying to find us, they dont know where we are. (on an imaginary phone) did you ring?, i cant find him. where did he go? he didnt tell me where he was going. he must have gone out. you wanna go out you get ready, you pick out the clothes, right? you take the shower, you get all ready, get the cash, get your friends, the car, the spot, the reservation...then youre standing around, what do you do? you go we gotta be getting back. once youre out, you wanna get back! you wanna go to sleep, you wanna get up, you wanna go out again tomorrow, right? where ever you are in life, its my feeling, youve gotta go. \n",
      "\n",
      "jerry: (pointing at georges shirt) see, to me, that button is in the worst possible spot. the second button literally makes or breaks the shirt, look at it. its too high! its in no-mans-land. you look like you live with your mother. \n",
      "\n",
      "george: are you through? \n",
      "\n",
      "jerry: you do of course try on, when you buy? \n",
      "\n",
      "george: yes, it was purple, i liked it, i dont actually recall considering the buttons. \n",
      "\n"
     ]
    }
   ],
   "source": [
    "view_line_range = (0, 10)\n",
    "\n",
    "\"\"\"\n",
    "DON'T MODIFY ANYTHING IN THIS CELL THAT IS BELOW THIS LINE\n",
    "\"\"\"\n",
    "import numpy as np\n",
    "\n",
    "print('Dataset Stats')\n",
    "print('Roughly the number of unique words: {}'.format(len({word: None for word in text.split()})))\n",
    "\n",
    "lines = text.split('\\n')\n",
    "print('Number of lines: {}'.format(len(lines)))\n",
    "word_count_line = [len(line.split()) for line in lines]\n",
    "print('Average number of words in each line: {}'.format(np.average(word_count_line)))\n",
    "\n",
    "print()\n",
    "print('The lines {} to {}:'.format(*view_line_range))\n",
    "print('\\n'.join(text.split('\\n')[view_line_range[0]:view_line_range[1]]))"
   ]
  },
  {
   "cell_type": "markdown",
   "metadata": {
    "colab_type": "text",
    "id": "m1E5ZanN4UOB"
   },
   "source": [
    "---\n",
    "## Implement Pre-processing Functions\n",
    "The first thing to do to any dataset is pre-processing.  Implement the following pre-processing functions below:\n",
    "- Lookup Table\n",
    "- Tokenize Punctuation\n",
    "\n",
    "### Lookup Table\n",
    "To create a word embedding, you first need to transform the words to ids.  In this function, create two dictionaries:\n",
    "- Dictionary to go from the words to an id, we'll call `vocab_to_int`\n",
    "- Dictionary to go from the id to word, we'll call `int_to_vocab`\n",
    "\n",
    "Return these dictionaries in the following **tuple** `(vocab_to_int, int_to_vocab)`"
   ]
  },
  {
   "cell_type": "code",
   "execution_count": 3,
   "metadata": {
    "colab": {
     "base_uri": "https://localhost:8080/",
     "height": 34
    },
    "colab_type": "code",
    "id": "aC9--H3W4UOC",
    "outputId": "fcee4f55-00b0-4bb1-9505-3ec87f289742"
   },
   "outputs": [
    {
     "name": "stdout",
     "output_type": "stream",
     "text": [
      "Tests Passed\n"
     ]
    }
   ],
   "source": [
    "import problem_unittests as tests\n",
    "\n",
    "def create_lookup_tables(text):\n",
    "    \"\"\"\n",
    "    Create lookup tables for vocabulary\n",
    "    :param text: The text of tv scripts split into words\n",
    "    :return: A tuple of dicts (vocab_to_int, int_to_vocab)\n",
    "    \"\"\"\n",
    "    # TODO: Implement Function\n",
    "    vocab = set()\n",
    "    for word in text:\n",
    "        vocab.add(word)\n",
    "    vocab_to_int = {w:i for i,w in enumerate(vocab)}\n",
    "    int_to_vocab = {i:w for i,w in enumerate(vocab)}\n",
    "    # return tuple\n",
    "    return (vocab_to_int, int_to_vocab)\n",
    "\n",
    "\n",
    "\"\"\"\n",
    "DON'T MODIFY ANYTHING IN THIS CELL THAT IS BELOW THIS LINE\n",
    "\"\"\"\n",
    "tests.test_create_lookup_tables(create_lookup_tables)"
   ]
  },
  {
   "cell_type": "markdown",
   "metadata": {
    "colab_type": "text",
    "id": "j0ECEHlJ4UOG"
   },
   "source": [
    "### Tokenize Punctuation\n",
    "We'll be splitting the script into a word array using spaces as delimiters.  However, punctuations like periods and exclamation marks can create multiple ids for the same word. For example, \"bye\" and \"bye!\" would generate two different word ids.\n",
    "\n",
    "Implement the function `token_lookup` to return a dict that will be used to tokenize symbols like \"!\" into \"||Exclamation_Mark||\".  Create a dictionary for the following symbols where the symbol is the key and value is the token:\n",
    "- Period ( **.** )\n",
    "- Comma ( **,** )\n",
    "- Quotation Mark ( **\"** )\n",
    "- Semicolon ( **;** )\n",
    "- Exclamation mark ( **!** )\n",
    "- Question mark ( **?** )\n",
    "- Left Parentheses ( **(** )\n",
    "- Right Parentheses ( **)** )\n",
    "- Dash ( **-** )\n",
    "- Return ( **\\n** )\n",
    "\n",
    "This dictionary will be used to tokenize the symbols and add the delimiter (space) around it.  This separates each symbols as its own word, making it easier for the neural network to predict the next word. Make sure you don't use a value that could be confused as a word; for example, instead of using the value \"dash\", try using something like \"||dash||\"."
   ]
  },
  {
   "cell_type": "code",
   "execution_count": 4,
   "metadata": {
    "colab": {
     "base_uri": "https://localhost:8080/",
     "height": 34
    },
    "colab_type": "code",
    "id": "czTxlGFl4UOH",
    "outputId": "9d5bb0c7-21cb-40ab-d7d9-85962f7af403"
   },
   "outputs": [
    {
     "name": "stdout",
     "output_type": "stream",
     "text": [
      "Tests Passed\n"
     ]
    }
   ],
   "source": [
    "def token_lookup():\n",
    "    \"\"\"\n",
    "    Generate a dict to turn punctuation into a token.\n",
    "    :return: Tokenized dictionary where the key is the punctuation and the value is the token\n",
    "    \"\"\"\n",
    "    # TODO: Implement Function\n",
    "    punc_token = {'.':'||period||', ',':'||comma||', '\"': '||quotation_mark||', ';':'||semicolon||', \n",
    "                  '!':'||exclamation_mark||', '?':'||question_mark||', '(':'||left_parentheses||', \n",
    "                  ')':'||right_parentheses||', '-':'||dash||', '\\n':'||return||'}\n",
    "        \n",
    "    return punc_token\n",
    "\n",
    "\"\"\"\n",
    "DON'T MODIFY ANYTHING IN THIS CELL THAT IS BELOW THIS LINE\n",
    "\"\"\"\n",
    "tests.test_tokenize(token_lookup)"
   ]
  },
  {
   "cell_type": "markdown",
   "metadata": {
    "colab_type": "text",
    "id": "OeLoAZVW4UOM"
   },
   "source": [
    "## Pre-process all the data and save it\n",
    "\n",
    "Running the code cell below will pre-process all the data and save it to file. You're encouraged to lok at the code for `preprocess_and_save_data` in the `helpers.py` file to see what it's doing in detail, but you do not need to change this code."
   ]
  },
  {
   "cell_type": "code",
   "execution_count": 5,
   "metadata": {
    "colab": {},
    "colab_type": "code",
    "id": "vLLpB_H14UOM"
   },
   "outputs": [],
   "source": [
    "\"\"\"\n",
    "DON'T MODIFY ANYTHING IN THIS CELL\n",
    "\"\"\"\n",
    "# pre-process training data\n",
    "helper.preprocess_and_save_data(data_dir, token_lookup, create_lookup_tables)"
   ]
  },
  {
   "cell_type": "markdown",
   "metadata": {
    "colab_type": "text",
    "id": "Fw6XQFW84UOQ"
   },
   "source": [
    "# Check Point\n",
    "This is your first checkpoint. If you ever decide to come back to this notebook or have to restart the notebook, you can start from here. The preprocessed data has been saved to disk."
   ]
  },
  {
   "cell_type": "code",
   "execution_count": 6,
   "metadata": {
    "colab": {},
    "colab_type": "code",
    "id": "pahw6vfY4UOR"
   },
   "outputs": [],
   "source": [
    "\"\"\"\n",
    "DON'T MODIFY ANYTHING IN THIS CELL\n",
    "\"\"\"\n",
    "# import helper\n",
    "import problem_unittests as tests\n",
    "\n",
    "int_text, vocab_to_int, int_to_vocab, token_dict = helper.load_preprocess()"
   ]
  },
  {
   "cell_type": "markdown",
   "metadata": {
    "colab_type": "text",
    "id": "YoBgxiQB4UOV"
   },
   "source": [
    "## Build the Neural Network\n",
    "In this section, you'll build the components necessary to build an RNN by implementing the RNN Module and forward and backpropagation functions.\n",
    "\n",
    "### Check Access to GPU"
   ]
  },
  {
   "cell_type": "code",
   "execution_count": 7,
   "metadata": {
    "colab": {},
    "colab_type": "code",
    "id": "1FPlXYPK4UOW"
   },
   "outputs": [],
   "source": [
    "\"\"\"\n",
    "DON'T MODIFY ANYTHING IN THIS CELL\n",
    "\"\"\"\n",
    "import torch\n",
    "\n",
    "# Check for a GPU\n",
    "train_on_gpu = torch.cuda.is_available()\n",
    "if not train_on_gpu:\n",
    "    print('No GPU found. Please use a GPU to train your neural network.')"
   ]
  },
  {
   "cell_type": "markdown",
   "metadata": {
    "colab_type": "text",
    "id": "kzW_3w1K4UOa"
   },
   "source": [
    "## Input\n",
    "Let's start with the preprocessed input data. We'll use [TensorDataset](http://pytorch.org/docs/master/data.html#torch.utils.data.TensorDataset) to provide a known format to our dataset; in combination with [DataLoader](http://pytorch.org/docs/master/data.html#torch.utils.data.DataLoader), it will handle batching, shuffling, and other dataset iteration functions.\n",
    "\n",
    "You can create data with TensorDataset by passing in feature and target tensors. Then create a DataLoader as usual.\n",
    "```\n",
    "data = TensorDataset(feature_tensors, target_tensors)\n",
    "data_loader = torch.utils.data.DataLoader(data, \n",
    "                                          batch_size=batch_size)\n",
    "```\n",
    "\n",
    "### Batching\n",
    "Implement the `batch_data` function to batch `words` data into chunks of size `batch_size` using the `TensorDataset` and `DataLoader` classes.\n",
    "\n",
    ">You can batch words using the DataLoader, but it will be up to you to create `feature_tensors` and `target_tensors` of the correct size and content for a given `sequence_length`.\n",
    "\n",
    "For example, say we have these as input:\n",
    "```\n",
    "words = [1, 2, 3, 4, 5, 6, 7]\n",
    "sequence_length = 4\n",
    "```\n",
    "\n",
    "Your first `feature_tensor` should contain the values:\n",
    "```\n",
    "[1, 2, 3, 4]\n",
    "```\n",
    "And the corresponding `target_tensor` should just be the next \"word\"/tokenized word value:\n",
    "```\n",
    "5\n",
    "```\n",
    "This should continue with the second `feature_tensor`, `target_tensor` being:\n",
    "```\n",
    "[2, 3, 4, 5]  # features\n",
    "6             # target\n",
    "```"
   ]
  },
  {
   "cell_type": "code",
   "execution_count": 8,
   "metadata": {
    "colab": {},
    "colab_type": "code",
    "id": "hvhum-P04UOb"
   },
   "outputs": [],
   "source": [
    "from torch.utils.data import TensorDataset, DataLoader\n",
    "\n",
    "\n",
    "def batch_data(words, sequence_length, batch_size):\n",
    "    \"\"\"\n",
    "    Batch the neural network data using DataLoader\n",
    "    :param words: The word ids of the TV scripts\n",
    "    :param sequence_length: The sequence length of each batch\n",
    "    :param batch_size: The size of each batch; the number of sequences in a batch\n",
    "    :return: DataLoader with batched data\n",
    "    \"\"\"\n",
    "    # TODO: Implement function\n",
    "\n",
    "    n_batches = len(words)//(batch_size*sequence_length)\n",
    "    words = words[:n_batches*batch_size*sequence_length]\n",
    "\n",
    "#     print(words)\n",
    "#     print(words.shape)\n",
    "    \n",
    "    features, targets = [], []\n",
    "    for n in range(0, len(words)-sequence_length):\n",
    "        # The features\n",
    "        x = words[n:n+sequence_length]\n",
    "        # print(len(x), n)\n",
    "        # The targets, shifted by one\n",
    "        try:\n",
    "            y =  words[n+sequence_length]\n",
    "        except(IndexError):\n",
    "            y = words[0]\n",
    "        # print((y), n)\n",
    "\n",
    "#             print(x)\n",
    "        features.append(x)\n",
    "#         print(features)\n",
    "        targets.append(y)\n",
    "\n",
    "    #     print(targets.shape)\n",
    "    features = torch.Tensor.int(torch.Tensor(features))\n",
    "    # print(features.shape)\n",
    "    targets = torch.Tensor.int(torch.Tensor(targets))\n",
    "    # print(targets.shape)\n",
    "\n",
    "        \n",
    "    data = TensorDataset(features, targets)\n",
    "    data_loader = DataLoader(data, batch_size=batch_size, shuffle=True)\n",
    "    \n",
    "    \n",
    "    # return a dataloader\n",
    "    return data_loader\n",
    "\n",
    "# there is no test for this function, but you are encouraged to create\n",
    "# print statements and tests of your own\n"
   ]
  },
  {
   "cell_type": "markdown",
   "metadata": {
    "colab_type": "text",
    "id": "A2HD2OOB4UOg"
   },
   "source": [
    "### Test your dataloader \n",
    "\n",
    "You'll have to modify this code to test a batching function, but it should look fairly similar.\n",
    "\n",
    "Below, we're generating some test text data and defining a dataloader using the function you defined, above. Then, we are getting some sample batch of inputs `sample_x` and targets `sample_y` from our dataloader.\n",
    "\n",
    "Your code should return something like the following (likely in a different order, if you shuffled your data):\n",
    "\n",
    "```\n",
    "torch.Size([10, 5])\n",
    "tensor([[ 28,  29,  30,  31,  32],\n",
    "        [ 21,  22,  23,  24,  25],\n",
    "        [ 17,  18,  19,  20,  21],\n",
    "        [ 34,  35,  36,  37,  38],\n",
    "        [ 11,  12,  13,  14,  15],\n",
    "        [ 23,  24,  25,  26,  27],\n",
    "        [  6,   7,   8,   9,  10],\n",
    "        [ 38,  39,  40,  41,  42],\n",
    "        [ 25,  26,  27,  28,  29],\n",
    "        [  7,   8,   9,  10,  11]])\n",
    "\n",
    "torch.Size([10])\n",
    "tensor([ 33,  26,  22,  39,  16,  28,  11,  43,  30,  12])\n",
    "```\n",
    "\n",
    "### Sizes\n",
    "Your sample_x should be of size `(batch_size, sequence_length)` or (10, 5) in this case and sample_y should just have one dimension: batch_size (10). \n",
    "\n",
    "### Values\n",
    "\n",
    "You should also notice that the targets, sample_y, are the *next* value in the ordered test_text data. So, for an input sequence `[ 28,  29,  30,  31,  32]` that ends with the value `32`, the corresponding output should be `33`."
   ]
  },
  {
   "cell_type": "code",
   "execution_count": 9,
   "metadata": {
    "colab": {
     "base_uri": "https://localhost:8080/",
     "height": 265
    },
    "colab_type": "code",
    "id": "naDi23MX4UOg",
    "outputId": "f49bf7ab-9bcf-4832-8f3a-fea3eea46edf"
   },
   "outputs": [
    {
     "name": "stdout",
     "output_type": "stream",
     "text": [
      "torch.Size([10, 5])\n",
      "tensor([[ 39,  40,  41,  42,  43],\n",
      "        [ 12,  13,  14,  15,  16],\n",
      "        [ 41,  42,  43,  44,  45],\n",
      "        [ 25,  26,  27,  28,  29],\n",
      "        [  6,   7,   8,   9,  10],\n",
      "        [ 20,  21,  22,  23,  24],\n",
      "        [ 38,  39,  40,  41,  42],\n",
      "        [ 32,  33,  34,  35,  36],\n",
      "        [ 40,  41,  42,  43,  44],\n",
      "        [ 28,  29,  30,  31,  32]], dtype=torch.int32)\n",
      "\n",
      "torch.Size([10])\n",
      "tensor([ 44,  17,  46,  30,  11,  25,  43,  37,  45,  33], dtype=torch.int32)\n"
     ]
    }
   ],
   "source": [
    "# test dataloader\n",
    "\n",
    "test_text = range(50)\n",
    "t_loader = batch_data(test_text, sequence_length=5, batch_size=10)\n",
    "\n",
    "data_iter = iter(t_loader)\n",
    "sample_x, sample_y = data_iter.next()\n",
    "\n",
    "print(sample_x.shape)\n",
    "print(sample_x)\n",
    "print()\n",
    "print(sample_y.shape)\n",
    "print(sample_y)"
   ]
  },
  {
   "cell_type": "markdown",
   "metadata": {
    "colab_type": "text",
    "id": "6Eie2dP14UOl"
   },
   "source": [
    "---\n",
    "## Build the Neural Network\n",
    "Implement an RNN using PyTorch's [Module class](http://pytorch.org/docs/master/nn.html#torch.nn.Module). You may choose to use a GRU or an LSTM. To complete the RNN, you'll have to implement the following functions for the class:\n",
    " - `__init__` - The initialize function. \n",
    " - `init_hidden` - The initialization function for an LSTM/GRU hidden state\n",
    " - `forward` - Forward propagation function.\n",
    " \n",
    "The initialize function should create the layers of the neural network and save them to the class. The forward propagation function will use these layers to run forward propagation and generate an output and a hidden state.\n",
    "\n",
    "**The output of this model should be the *last* batch of word scores** after a complete sequence has been processed. That is, for each input sequence of words, we only want to output the word scores for a single, most likely, next word.\n",
    "\n",
    "### Hints\n",
    "\n",
    "1. Make sure to stack the outputs of the lstm to pass to your fully-connected layer, you can do this with `lstm_output = lstm_output.contiguous().view(-1, self.hidden_dim)`\n",
    "2. You can get the last batch of word scores by shaping the output of the final, fully-connected layer like so:\n",
    "\n",
    "```\n",
    "# reshape into (batch_size, seq_length, output_size)\n",
    "output = output.view(batch_size, -1, self.output_size)\n",
    "# get last batch\n",
    "out = output[:, -1]\n",
    "```"
   ]
  },
  {
   "cell_type": "code",
   "execution_count": 10,
   "metadata": {
    "colab": {
     "base_uri": "https://localhost:8080/",
     "height": 34
    },
    "colab_type": "code",
    "id": "yI1FOjma4UOl",
    "outputId": "9ae09e99-5901-464f-c4f0-b2f1ec620d64"
   },
   "outputs": [
    {
     "name": "stdout",
     "output_type": "stream",
     "text": [
      "Tests Passed\n"
     ]
    }
   ],
   "source": [
    "import torch.nn as nn\n",
    "\n",
    "class RNN(nn.Module):\n",
    "    \n",
    "    def __init__(self, vocab_size, output_size, embedding_dim, hidden_dim, n_layers, dropout=0.5):\n",
    "        \"\"\"\n",
    "        Initialize the PyTorch RNN Module\n",
    "        :param vocab_size: The number of input dimensions of the neural network (the size of the vocabulary)\n",
    "        :param output_size: The number of output dimensions of the neural network\n",
    "        :param embedding_dim: The size of embeddings, should you choose to use them        \n",
    "        :param hidden_dim: The size of the hidden layer outputs\n",
    "        :param dropout: dropout to add in between LSTM/GRU layers\n",
    "        \"\"\"\n",
    "        super(RNN, self).__init__()\n",
    "        # TODO: Implement function        \n",
    "        # set class variables\n",
    "        self.vocab_size = vocab_size\n",
    "#         print(vocab_size)\n",
    "        self.output_size = output_size\n",
    "        self.embedding_dim = embedding_dim\n",
    "        self.hidden_dim = hidden_dim\n",
    "        self.n_layers = n_layers\n",
    "        self.dropout= dropout\n",
    "        \n",
    "        # define model layers\n",
    "        self.embed=nn.Embedding(vocab_size, embedding_dim)\n",
    "        self.lstm = nn.LSTM(embedding_dim, hidden_dim, num_layers=n_layers, dropout=dropout, batch_first=True)\n",
    "        self.dropout = nn.Dropout(self.dropout)\n",
    "        self.fc = nn.Linear(self.hidden_dim, self.output_size)\n",
    "        self.softmax = nn.LogSoftmax(dim=1)\n",
    "    \n",
    "    def forward(self, nn_input, hidden):\n",
    "        \"\"\"\n",
    "        Forward propagation of the neural network\n",
    "        :param nn_input: The input to the neural network\n",
    "        :param hidden: The hidden state        \n",
    "        :return: Two Tensors, the output of the neural network and the latest hidden state\n",
    "        \"\"\"\n",
    "        # TODO: Implement function   \n",
    "\n",
    "        x=self.embed(nn_input.long())\n",
    "#         print(x.shape)\n",
    "        rnn_out, hidden=self.lstm(x,hidden)\n",
    "        #print(lstm_output.size())rnn_out, hidden = self.lstm(nn_input, hidden)\n",
    "        out = self.dropout(rnn_out)\n",
    "        # batch-size = nn_input.size(0)\n",
    "        out = out.contiguous().view(nn_input.size(0), -1,self.hidden_dim)\n",
    "        out = self.softmax(self.fc(out))\n",
    "\n",
    "        # return one batch of output word scores and the hidden state\n",
    "        out = out[:,-1]\n",
    "        return out, hidden\n",
    "    \n",
    "    \n",
    "    def init_hidden(self, batch_size):\n",
    "        '''\n",
    "        Initialize the hidden state of an LSTM/GRU\n",
    "        :param batch_size: The batch_size of the hidden state\n",
    "        :return: hidden state of dims (n_layers, batch_size, hidden_dim)\n",
    "        '''\n",
    "        # Implement function\n",
    "        weight = next(self.parameters()).data\n",
    "        \n",
    "        \n",
    "        # initialize hidden state with zero weights, and move to GPU if available\n",
    "        \n",
    "        if (train_on_gpu):\n",
    "            hidden = (weight.new(self.n_layers, batch_size, self.hidden_dim).zero_().cuda(),\n",
    "                  weight.new(self.n_layers, batch_size, self.hidden_dim).zero_().cuda())\n",
    "        else:\n",
    "            hidden = (weight.new(self.n_layers, batch_size, self.hidden_dim).zero_(),\n",
    "                      weight.new(self.n_layers, batch_size, self.hidden_dim).zero_())\n",
    "        \n",
    "        return hidden\n",
    "\n",
    "\"\"\"\n",
    "DON'T MODIFY ANYTHING IN THIS CELL THAT IS BELOW THIS LINE\n",
    "\"\"\"\n",
    "tests.test_rnn(RNN, train_on_gpu)"
   ]
  },
  {
   "cell_type": "markdown",
   "metadata": {
    "colab_type": "text",
    "id": "NvfWG1e44UOq"
   },
   "source": [
    "### Define forward and backpropagation\n",
    "\n",
    "Use the RNN class you implemented to apply forward and back propagation. This function will be called, iteratively, in the training loop as follows:\n",
    "```\n",
    "loss = forward_back_prop(decoder, decoder_optimizer, criterion, inp, target)\n",
    "```\n",
    "\n",
    "And it should return the average loss over a batch and the hidden state returned by a call to `RNN(inp, hidden)`. Recall that you can get this loss by computing it, as usual, and calling `loss.item()`.\n",
    "\n",
    "**If a GPU is available, you should move your data to that GPU device, here.**"
   ]
  },
  {
   "cell_type": "code",
   "execution_count": 11,
   "metadata": {
    "colab": {
     "base_uri": "https://localhost:8080/",
     "height": 34
    },
    "colab_type": "code",
    "id": "2N4KHCBM4UOr",
    "outputId": "7d5edc51-5e04-4602-f639-72e720dbb069"
   },
   "outputs": [
    {
     "name": "stdout",
     "output_type": "stream",
     "text": [
      "Tests Passed\n"
     ]
    }
   ],
   "source": [
    "def forward_back_prop(rnn, optimizer, criterion, inp, target, hidden):\n",
    "    \"\"\"\n",
    "    Forward and backward propagation on the neural network\n",
    "    :param decoder: The PyTorch Module that holds the neural network\n",
    "    :param decoder_optimizer: The PyTorch optimizer for the neural network\n",
    "    :param criterion: The PyTorch loss function\n",
    "    :param inp: A batch of input to the neural network\n",
    "    :param target: The target output for the batch of input\n",
    "    :return: The loss and the latest hidden state Tensor\n",
    "    \"\"\"\n",
    "    \n",
    "    # TODO: Implement Function\n",
    "    \n",
    "    # move data to GPU, if available\n",
    "    if(train_on_gpu):\n",
    "        rnn.cuda()\n",
    "        inp = inp.cuda()\n",
    "        target = target.cuda()\n",
    "\n",
    "    \n",
    "    # perform backpropagation and optimization\n",
    "    \n",
    "    # Creating new variables for the hidden state, otherwise\n",
    "    # we'd backprop through the entire training history\n",
    "    hidden = tuple([each.data for each in hidden])\n",
    "\n",
    "    rnn.zero_grad()\n",
    "    output, new_hidden = rnn.forward(inp, hidden)\n",
    "        \n",
    "    seq_length, batch_size = inp.size(0), inp.size(1)\n",
    "    target = target.long()\n",
    "    loss = criterion(output, target)\n",
    "    loss.backward()\n",
    "    loss = float(loss)\n",
    "    # `clip_grad_norm` helps prevent the exploding gradient problem in RNNs / LSTMs.\n",
    "    nn.utils.clip_grad_norm_(rnn.parameters(), 5)\n",
    "    optimizer.step()\n",
    "\n",
    "        \n",
    "    # return the loss over a batch and the hidden state produced by our model\n",
    "    return loss, new_hidden\n",
    "\n",
    "# Note that these tests aren't completely extensive.\n",
    "# they are here to act as general checks on the expected outputs of your functions\n",
    "\"\"\"\n",
    "DON'T MODIFY ANYTHING IN THIS CELL THAT IS BELOW THIS LINE\n",
    "\"\"\"\n",
    "tests.test_forward_back_prop(RNN, forward_back_prop, train_on_gpu)"
   ]
  },
  {
   "cell_type": "markdown",
   "metadata": {
    "colab_type": "text",
    "id": "m2bZVKoT4UOv"
   },
   "source": [
    "## Neural Network Training\n",
    "\n",
    "With the structure of the network complete and data ready to be fed in the neural network, it's time to train it.\n",
    "\n",
    "### Train Loop\n",
    "\n",
    "The training loop is implemented for you in the `train_decoder` function. This function will train the network over all the batches for the number of epochs given. The model progress will be shown every number of batches. This number is set with the `show_every_n_batches` parameter. You'll set this parameter along with other parameters in the next section."
   ]
  },
  {
   "cell_type": "code",
   "execution_count": 12,
   "metadata": {
    "colab": {},
    "colab_type": "code",
    "id": "qMSfo8Hw4UOw"
   },
   "outputs": [],
   "source": [
    "\"\"\"\n",
    "DON'T MODIFY ANYTHING IN THIS CELL\n",
    "\"\"\"\n",
    "\n",
    "def train_rnn(rnn, batch_size, optimizer, criterion, n_epochs, show_every_n_batches=100):\n",
    "    batch_losses = []\n",
    "    \n",
    "    rnn.train()\n",
    "\n",
    "    print(\"Training for %d epoch(s)...\" % n_epochs)\n",
    "    for epoch_i in range(1, n_epochs + 1):\n",
    "        \n",
    "        # initialize hidden state\n",
    "        hidden = rnn.init_hidden(batch_size)\n",
    "        \n",
    "        for batch_i, (inputs, labels) in enumerate(train_loader, 1):\n",
    "            \n",
    "            # make sure you iterate over completely full batches, only\n",
    "            n_batches = len(train_loader.dataset)//batch_size\n",
    "            if(batch_i > n_batches):\n",
    "                break\n",
    "            \n",
    "            # forward, back prop\n",
    "            loss, hidden = forward_back_prop(rnn, optimizer, criterion, inputs, labels, hidden)          \n",
    "            # record loss\n",
    "            batch_losses.append(loss)\n",
    "\n",
    "            # printing loss stats\n",
    "            if batch_i % show_every_n_batches == 0:\n",
    "                print('Epoch: {:>4}/{:<4}  Loss: {}\\n'.format(\n",
    "                    epoch_i, n_epochs, np.average(batch_losses)))\n",
    "                batch_losses = []\n",
    "\n",
    "    # returns a trained rnn\n",
    "    return rnn"
   ]
  },
  {
   "cell_type": "markdown",
   "metadata": {
    "colab_type": "text",
    "id": "LPzwQt4T4UOz"
   },
   "source": [
    "### Hyperparameters\n",
    "\n",
    "Set and train the neural network with the following parameters:\n",
    "- Set `sequence_length` to the length of a sequence.\n",
    "- Set `batch_size` to the batch size.\n",
    "- Set `num_epochs` to the number of epochs to train for.\n",
    "- Set `learning_rate` to the learning rate for an Adam optimizer.\n",
    "- Set `vocab_size` to the number of uniqe tokens in our vocabulary.\n",
    "- Set `output_size` to the desired size of the output.\n",
    "- Set `embedding_dim` to the embedding dimension; smaller than the vocab_size.\n",
    "- Set `hidden_dim` to the hidden dimension of your RNN.\n",
    "- Set `n_layers` to the number of layers/cells in your RNN.\n",
    "- Set `show_every_n_batches` to the number of batches at which the neural network should print progress.\n",
    "\n",
    "If the network isn't getting the desired results, tweak these parameters and/or the layers in the `RNN` class."
   ]
  },
  {
   "cell_type": "code",
   "execution_count": 13,
   "metadata": {
    "colab": {
     "base_uri": "https://localhost:8080/",
     "height": 34
    },
    "colab_type": "code",
    "id": "70BWz-mW4UOz",
    "outputId": "9440235d-d355-477a-bc33-b23a0eafdf43"
   },
   "outputs": [
    {
     "name": "stdout",
     "output_type": "stream",
     "text": [
      "torch.Size([128, 5])\n"
     ]
    }
   ],
   "source": [
    "# Data params\n",
    "# Sequence Length\n",
    "sequence_length =   5  # of words in a sequence\n",
    "# Batch Size\n",
    "batch_size = 128\n",
    "\n",
    "# data loader - do not change\n",
    "train_loader = batch_data(int_text, sequence_length, batch_size)\n",
    "print(iter(train_loader).next()[0].size())"
   ]
  },
  {
   "cell_type": "code",
   "execution_count": 16,
   "metadata": {
    "colab": {
     "base_uri": "https://localhost:8080/",
     "height": 70
    },
    "colab_type": "code",
    "id": "mPYaXjP04UO3",
    "outputId": "04c6e9e9-48e9-4c3e-99f7-2d6883cf999a"
   },
   "outputs": [
    {
     "name": "stdout",
     "output_type": "stream",
     "text": [
      "6965\n",
      "892110 21388 21388\n"
     ]
    }
   ],
   "source": [
    "# Training parameters\n",
    "# Number of Epochs\n",
    "num_epochs = 30\n",
    "# Learning Rate\n",
    "learning_rate = 0.0005\n",
    "\n",
    "# Model parameters\n",
    "# Vocab size\n",
    "vocab_size = len(vocab_to_int)\n",
    "# Output size\n",
    "output_size = vocab_size\n",
    "# Embedding Dimension\n",
    "embedding_dim = 400\n",
    "# Hidden Dimension\n",
    "hidden_dim = 512\n",
    "# Number of RNN Layers\n",
    "n_layers = 2\n",
    "\n",
    "# Show stats for every n number of batches\n",
    "show_every_n_batches = 1000\n",
    "print(len(train_loader))\n",
    "print(len(int_text), len(vocab_to_int), len(int_to_vocab))\n"
   ]
  },
  {
   "cell_type": "markdown",
   "metadata": {
    "colab_type": "text",
    "id": "nVwmMJsL4UO7"
   },
   "source": [
    "### Train\n",
    "In the next cell, you'll train the neural network on the pre-processed data.  If you have a hard time getting a good loss, you may consider changing your hyperparameters. In general, you may get better results with larger hidden and n_layer dimensions, but larger models take a longer time to train. \n",
    "> **You should aim for a loss less than 3.5.** \n",
    "\n",
    "You should also experiment with different sequence lengths, which determine the size of the long range dependencies that a model can learn."
   ]
  },
  {
   "cell_type": "code",
   "execution_count": 17,
   "metadata": {
    "colab": {
     "base_uri": "https://localhost:8080/",
     "height": 1000
    },
    "colab_type": "code",
    "id": "bch9gm-94UO8",
    "outputId": "d849833d-ca82-455a-f3d2-ebda054a791e"
   },
   "outputs": [
    {
     "name": "stdout",
     "output_type": "stream",
     "text": [
      "Training for 30 epoch(s)...\n",
      "Epoch:    1/30    Loss: 6.543029800415039\n",
      "\n",
      "Epoch:    1/30    Loss: 5.660811886310578\n",
      "\n",
      "Epoch:    1/30    Loss: 5.449027426242829\n",
      "\n",
      "Epoch:    1/30    Loss: 5.339051086902618\n",
      "\n",
      "Epoch:    1/30    Loss: 5.249472342967987\n",
      "\n",
      "Epoch:    1/30    Loss: 5.208345528125763\n",
      "\n",
      "Epoch:    2/30    Loss: 5.091894877903816\n",
      "\n",
      "Epoch:    2/30    Loss: 4.989817384243011\n",
      "\n",
      "Epoch:    2/30    Loss: 4.973244144439697\n",
      "\n",
      "Epoch:    2/30    Loss: 4.946708379268646\n",
      "\n",
      "Epoch:    2/30    Loss: 4.936147884845734\n",
      "\n",
      "Epoch:    2/30    Loss: 4.914828999757766\n",
      "\n",
      "Epoch:    3/30    Loss: 4.736720747471827\n",
      "\n",
      "Epoch:    3/30    Loss: 4.335171859502792\n",
      "\n",
      "Epoch:    3/30    Loss: 4.2608237881660465\n",
      "\n",
      "Epoch:    3/30    Loss: 4.256986937761306\n",
      "\n",
      "Epoch:    3/30    Loss: 4.239705964803695\n",
      "\n",
      "Epoch:    3/30    Loss: 4.221638986825943\n",
      "\n",
      "Epoch:    4/30    Loss: 4.159529381759784\n",
      "\n",
      "Epoch:    4/30    Loss: 4.095457471609116\n",
      "\n",
      "Epoch:    4/30    Loss: 4.1020555274486545\n",
      "\n",
      "Epoch:    4/30    Loss: 4.079698233604431\n",
      "\n",
      "Epoch:    4/30    Loss: 4.085936116218567\n",
      "\n",
      "Epoch:    4/30    Loss: 4.117325137853623\n",
      "\n",
      "Epoch:    5/30    Loss: 4.028916985221405\n",
      "\n",
      "Epoch:    5/30    Loss: 3.984664477586746\n",
      "\n",
      "Epoch:    5/30    Loss: 3.9914391646385194\n",
      "\n",
      "Epoch:    5/30    Loss: 3.986577777385712\n",
      "\n",
      "Epoch:    5/30    Loss: 3.9889861545562746\n",
      "\n",
      "Epoch:    5/30    Loss: 4.008425948858261\n",
      "\n",
      "Epoch:    6/30    Loss: 3.944841219184355\n",
      "\n",
      "Epoch:    6/30    Loss: 3.8953671238422394\n",
      "\n",
      "Epoch:    6/30    Loss: 3.920953855752945\n",
      "\n",
      "Epoch:    6/30    Loss: 3.9300309071540833\n",
      "\n",
      "Epoch:    6/30    Loss: 3.9249729096889494\n",
      "\n",
      "Epoch:    6/30    Loss: 3.9469624428749084\n",
      "\n",
      "Epoch:    7/30    Loss: 3.878981558951244\n",
      "\n",
      "Epoch:    7/30    Loss: 3.8370082688331606\n",
      "\n",
      "Epoch:    7/30    Loss: 3.851115502357483\n",
      "\n",
      "Epoch:    7/30    Loss: 3.8816161813735963\n",
      "\n",
      "Epoch:    7/30    Loss: 3.879370420217514\n",
      "\n",
      "Epoch:    7/30    Loss: 3.8720319476127623\n",
      "\n",
      "Epoch:    8/30    Loss: 3.8445535485467697\n",
      "\n",
      "Epoch:    8/30    Loss: 3.8071785039901735\n",
      "\n",
      "Epoch:    8/30    Loss: 3.812354859113693\n",
      "\n",
      "Epoch:    8/30    Loss: 3.813424738407135\n",
      "\n",
      "Epoch:    8/30    Loss: 3.8363437769412996\n",
      "\n",
      "Epoch:    8/30    Loss: 3.832848246097565\n",
      "\n",
      "Epoch:    9/30    Loss: 3.8036923073459787\n",
      "\n",
      "Epoch:    9/30    Loss: 3.748601893186569\n",
      "\n",
      "Epoch:    9/30    Loss: 3.7746932332515715\n",
      "\n",
      "Epoch:    9/30    Loss: 3.7952704548835756\n",
      "\n",
      "Epoch:    9/30    Loss: 3.795537294626236\n",
      "\n",
      "Epoch:    9/30    Loss: 3.8220671002864837\n",
      "\n",
      "Epoch:   10/30    Loss: 3.7573324959049885\n",
      "\n",
      "Epoch:   10/30    Loss: 3.7342770307064055\n",
      "\n",
      "Epoch:   10/30    Loss: 3.7499417190551756\n",
      "\n",
      "Epoch:   10/30    Loss: 3.7519729502201082\n",
      "\n",
      "Epoch:   10/30    Loss: 3.7886030032634737\n",
      "\n",
      "Epoch:   10/30    Loss: 3.7691867175102236\n",
      "\n",
      "Epoch:   11/30    Loss: 3.723283406187706\n",
      "\n",
      "Epoch:   11/30    Loss: 3.709689376592636\n",
      "\n",
      "Epoch:   11/30    Loss: 3.7020801377296446\n",
      "\n",
      "Epoch:   11/30    Loss: 3.7225517303943634\n",
      "\n",
      "Epoch:   11/30    Loss: 3.7420364880561827\n",
      "\n",
      "Epoch:   11/30    Loss: 3.7636431663036345\n",
      "\n",
      "Epoch:   12/30    Loss: 3.7086179935033843\n",
      "\n",
      "Epoch:   12/30    Loss: 3.6566622750759126\n",
      "\n",
      "Epoch:   12/30    Loss: 3.6877420065402986\n",
      "\n",
      "Epoch:   12/30    Loss: 3.7089065256118774\n",
      "\n",
      "Epoch:   12/30    Loss: 3.7131802821159363\n",
      "\n",
      "Epoch:   12/30    Loss: 3.7154448132514952\n",
      "\n",
      "Epoch:   13/30    Loss: 3.6973430667292564\n",
      "\n",
      "Epoch:   13/30    Loss: 3.6557989673614504\n",
      "\n",
      "Epoch:   13/30    Loss: 3.671707757949829\n",
      "\n",
      "Epoch:   13/30    Loss: 3.679049996137619\n",
      "\n",
      "Epoch:   13/30    Loss: 3.6934668395519257\n",
      "\n",
      "Epoch:   13/30    Loss: 3.6970227711200714\n",
      "\n",
      "Epoch:   14/30    Loss: 3.659863833375958\n",
      "\n",
      "Epoch:   14/30    Loss: 3.6072897074222565\n",
      "\n",
      "Epoch:   14/30    Loss: 3.6554030029773714\n",
      "\n",
      "Epoch:   14/30    Loss: 3.660374874830246\n",
      "\n",
      "Epoch:   14/30    Loss: 3.671331583738327\n",
      "\n",
      "Epoch:   14/30    Loss: 3.6794897696971893\n",
      "\n",
      "Epoch:   15/30    Loss: 3.6595817520273677\n",
      "\n",
      "Epoch:   15/30    Loss: 3.608484870672226\n",
      "\n",
      "Epoch:   15/30    Loss: 3.631138182878494\n",
      "\n",
      "Epoch:   15/30    Loss: 3.6476224989891053\n",
      "\n",
      "Epoch:   15/30    Loss: 3.6533213713169097\n",
      "\n",
      "Epoch:   15/30    Loss: 3.6742951364517213\n",
      "\n",
      "Epoch:   16/30    Loss: 3.6370391766796772\n",
      "\n",
      "Epoch:   16/30    Loss: 3.5971803054809572\n",
      "\n",
      "Epoch:   16/30    Loss: 3.6079491703510285\n",
      "\n",
      "Epoch:   16/30    Loss: 3.621051968097687\n",
      "\n",
      "Epoch:   16/30    Loss: 3.633556266784668\n",
      "\n",
      "Epoch:   16/30    Loss: 3.6479214787483216\n",
      "\n",
      "Epoch:   17/30    Loss: 3.6122885948528825\n",
      "\n",
      "Epoch:   17/30    Loss: 3.5696454248428346\n",
      "\n",
      "Epoch:   17/30    Loss: 3.5915836462974546\n",
      "\n",
      "Epoch:   17/30    Loss: 3.5983626079559325\n",
      "\n",
      "Epoch:   17/30    Loss: 3.6234290561676024\n",
      "\n",
      "Epoch:   17/30    Loss: 3.6617936449050905\n",
      "\n",
      "Epoch:   18/30    Loss: 3.5945040418514167\n",
      "\n",
      "Epoch:   18/30    Loss: 3.55163361120224\n",
      "\n",
      "Epoch:   18/30    Loss: 3.5807785441875457\n",
      "\n",
      "Epoch:   18/30    Loss: 3.591427860021591\n",
      "\n",
      "Epoch:   18/30    Loss: 3.609496379137039\n",
      "\n",
      "Epoch:   18/30    Loss: 3.629416446685791\n",
      "\n",
      "Epoch:   19/30    Loss: 3.595131961002855\n",
      "\n",
      "Epoch:   19/30    Loss: 3.5588560764789583\n",
      "\n",
      "Epoch:   19/30    Loss: 3.5581592643260955\n",
      "\n",
      "Epoch:   19/30    Loss: 3.5896558470726014\n",
      "\n",
      "Epoch:   19/30    Loss: 3.5951708884239197\n",
      "\n",
      "Epoch:   19/30    Loss: 3.5991179027557374\n",
      "\n",
      "Epoch:   20/30    Loss: 3.5690771263631444\n",
      "\n",
      "Epoch:   20/30    Loss: 3.543199330806732\n",
      "\n",
      "Epoch:   20/30    Loss: 3.544966111421585\n",
      "\n",
      "Epoch:   20/30    Loss: 3.572619389295578\n",
      "\n",
      "Epoch:   20/30    Loss: 3.578588281154633\n",
      "\n",
      "Epoch:   20/30    Loss: 3.5960291833877562\n",
      "\n",
      "Epoch:   21/30    Loss: 3.5564345093462957\n",
      "\n",
      "Epoch:   21/30    Loss: 3.532840788125992\n",
      "\n",
      "Epoch:   21/30    Loss: 3.5408398237228393\n",
      "\n",
      "Epoch:   21/30    Loss: 3.5567053475379944\n",
      "\n",
      "Epoch:   21/30    Loss: 3.567227847576141\n",
      "\n",
      "Epoch:   21/30    Loss: 3.5848015539646148\n",
      "\n",
      "Epoch:   22/30    Loss: 3.552296176583121\n",
      "\n",
      "Epoch:   22/30    Loss: 3.523524288654327\n",
      "\n",
      "Epoch:   22/30    Loss: 3.5224108657836912\n",
      "\n",
      "Epoch:   22/30    Loss: 3.558348738193512\n",
      "\n",
      "Epoch:   22/30    Loss: 3.5479468438625337\n",
      "\n",
      "Epoch:   22/30    Loss: 3.561700835466385\n",
      "\n",
      "Epoch:   23/30    Loss: 3.528826096878518\n",
      "\n",
      "Epoch:   23/30    Loss: 3.5067990226745605\n",
      "\n",
      "Epoch:   23/30    Loss: 3.519255443096161\n",
      "\n",
      "Epoch:   23/30    Loss: 3.534604984283447\n",
      "\n",
      "Epoch:   23/30    Loss: 3.539746324777603\n",
      "\n",
      "Epoch:   23/30    Loss: 3.5665100328922272\n",
      "\n",
      "Epoch:   24/30    Loss: 3.526449638690094\n",
      "\n",
      "Epoch:   24/30    Loss: 3.5042436215877535\n",
      "\n",
      "Epoch:   24/30    Loss: 3.519302060365677\n",
      "\n",
      "Epoch:   24/30    Loss: 3.51999334192276\n",
      "\n",
      "Epoch:   24/30    Loss: 3.518725896835327\n",
      "\n",
      "Epoch:   24/30    Loss: 3.547347226381302\n",
      "\n",
      "Epoch:   25/30    Loss: 3.519935548791089\n",
      "\n",
      "Epoch:   25/30    Loss: 3.4775795035362242\n",
      "\n",
      "Epoch:   25/30    Loss: 3.4909539132118224\n",
      "\n",
      "Epoch:   25/30    Loss: 3.5184743733406068\n",
      "\n",
      "Epoch:   25/30    Loss: 3.5278621191978456\n",
      "\n",
      "Epoch:   25/30    Loss: 3.5482116239070893\n",
      "\n",
      "Epoch:   26/30    Loss: 3.503418884306478\n",
      "\n",
      "Epoch:   26/30    Loss: 3.4612436003685\n",
      "\n",
      "Epoch:   26/30    Loss: 3.4958287093639373\n",
      "\n",
      "Epoch:   26/30    Loss: 3.5094631242752077\n",
      "\n",
      "Epoch:   26/30    Loss: 3.5202314360141753\n",
      "\n",
      "Epoch:   26/30    Loss: 3.527289764881134\n",
      "\n",
      "Epoch:   27/30    Loss: 3.484500112577271\n",
      "\n",
      "Epoch:   27/30    Loss: 3.4423057551383973\n",
      "\n",
      "Epoch:   27/30    Loss: 3.467204210281372\n",
      "\n",
      "Epoch:   27/30    Loss: 3.5105569260120393\n",
      "\n",
      "Epoch:   27/30    Loss: 3.508256000757217\n",
      "\n",
      "Epoch:   27/30    Loss: 3.5236890943050385\n",
      "\n",
      "Epoch:   28/30    Loss: 3.4811918049625854\n",
      "\n",
      "Epoch:   28/30    Loss: 3.4519101457595824\n",
      "\n",
      "Epoch:   28/30    Loss: 3.4734233152866363\n",
      "\n",
      "Epoch:   28/30    Loss: 3.479986790418625\n",
      "\n",
      "Epoch:   28/30    Loss: 3.515824780702591\n",
      "\n",
      "Epoch:   28/30    Loss: 3.498610429286957\n",
      "\n",
      "Epoch:   29/30    Loss: 3.4727075993407768\n",
      "\n",
      "Epoch:   29/30    Loss: 3.4496865916252135\n",
      "\n",
      "Epoch:   29/30    Loss: 3.4602392687797545\n",
      "\n",
      "Epoch:   29/30    Loss: 3.4737667577266693\n",
      "\n",
      "Epoch:   29/30    Loss: 3.483190547466278\n",
      "\n",
      "Epoch:   29/30    Loss: 3.4957940275669097\n",
      "\n",
      "Epoch:   30/30    Loss: 3.4685942001352483\n",
      "\n",
      "Epoch:   30/30    Loss: 3.44556724023819\n",
      "\n",
      "Epoch:   30/30    Loss: 3.4445607206821443\n",
      "\n",
      "Epoch:   30/30    Loss: 3.4665324087142944\n",
      "\n",
      "Epoch:   30/30    Loss: 3.4787732410430907\n",
      "\n",
      "Epoch:   30/30    Loss: 3.483171660900116\n",
      "\n",
      "Model Trained and Saved\n"
     ]
    }
   ],
   "source": [
    "\"\"\"\n",
    "DON'T MODIFY ANYTHING IN THIS CELL\n",
    "\"\"\"\n",
    "\n",
    "# create model and move to gpu if available\n",
    "rnn = RNN(vocab_size, output_size, embedding_dim, hidden_dim, n_layers, dropout=0.5)\n",
    "if train_on_gpu:\n",
    "    rnn.cuda()\n",
    "\n",
    "# defining loss and optimization functions for training\n",
    "optimizer = torch.optim.Adam(rnn.parameters(), lr=learning_rate)\n",
    "criterion = nn.CrossEntropyLoss()\n",
    "\n",
    "# training the model\n",
    "trained_rnn = train_rnn(rnn, batch_size, optimizer, criterion, num_epochs, show_every_n_batches)\n",
    "\n",
    "# saving the trained model\n",
    "helper.save_model('./save/trained_rnn', trained_rnn)\n",
    "print('Model Trained and Saved')"
   ]
  },
  {
   "cell_type": "markdown",
   "metadata": {
    "colab_type": "text",
    "id": "3QrqdflG4UPA"
   },
   "source": [
    "### Question: How did you decide on your model hyperparameters? \n",
    "For example, did you try different sequence_lengths and find that one size made the model converge faster? What about your hidden_dim and n_layers; how did you decide on those?"
   ]
  },
  {
   "cell_type": "markdown",
   "metadata": {
    "colab_type": "text",
    "id": "8tESxL5b4UPB"
   },
   "source": [
    "**Answer:** I tried various sequence_lengths like 50, 30, 20, etc. and saw the model accuracy and loss was not affected much, but smaller seqence length was faster with training. Hence I went with sequence_length = 5.\n",
    "\n",
    "For hidden dimensions I started with 256 but the model stopped converging beyond a loss of 3.8, so I switched to hidden_dim = 512, which was faster in convergence of model. I tried training with both n_layers = 3 and 2, but there was no significant difference in the performance, hence I chose n_layers = 2 to help the model train quicker."
   ]
  },
  {
   "cell_type": "markdown",
   "metadata": {
    "colab_type": "text",
    "id": "VgJKKu994UPC"
   },
   "source": [
    "---\n",
    "# Checkpoint\n",
    "\n",
    "After running the above training cell, your model will be saved by name, `trained_rnn`, and if you save your notebook progress, **you can pause here and come back to this code at another time**. You can resume your progress by running the next cell, which will load in our word:id dictionaries _and_ load in your saved model by name!"
   ]
  },
  {
   "cell_type": "code",
   "execution_count": 18,
   "metadata": {
    "colab": {},
    "colab_type": "code",
    "id": "Jq_53SZX4UPD"
   },
   "outputs": [],
   "source": [
    "\"\"\"\n",
    "DON'T MODIFY ANYTHING IN THIS CELL\n",
    "\"\"\"\n",
    "import torch\n",
    "import helper\n",
    "import problem_unittests as tests\n",
    "\n",
    "_, vocab_to_int, int_to_vocab, token_dict = helper.load_preprocess()\n",
    "trained_rnn = helper.load_model('./save/trained_rnn')"
   ]
  },
  {
   "cell_type": "markdown",
   "metadata": {
    "colab_type": "text",
    "id": "J9PPuYKx4UPG"
   },
   "source": [
    "## Generate TV Script\n",
    "With the network trained and saved, you'll use it to generate a new, \"fake\" Seinfeld TV script in this section.\n",
    "\n",
    "### Generate Text\n",
    "To generate the text, the network needs to start with a single word and repeat its predictions until it reaches a set length. You'll be using the `generate` function to do this. It takes a word id to start with, `prime_id`, and generates a set length of text, `predict_len`. Also note that it uses topk sampling to introduce some randomness in choosing the most likely next word, given an output set of word scores!"
   ]
  },
  {
   "cell_type": "code",
   "execution_count": 19,
   "metadata": {
    "colab": {
     "base_uri": "https://localhost:8080/",
     "height": 34
    },
    "colab_type": "code",
    "id": "aOPqOH7cCLkd",
    "outputId": "7f57493d-a712-47f2-b53b-757d7a5a5602"
   },
   "outputs": [
    {
     "name": "stdout",
     "output_type": "stream",
     "text": [
      "5\n"
     ]
    }
   ],
   "source": [
    "print(sequence_length)"
   ]
  },
  {
   "cell_type": "code",
   "execution_count": 20,
   "metadata": {
    "colab": {},
    "colab_type": "code",
    "id": "raRyZgAw4UPG"
   },
   "outputs": [],
   "source": [
    "\"\"\"\n",
    "DON'T MODIFY ANYTHING IN THIS CELL THAT IS BELOW THIS LINE\n",
    "\"\"\"\n",
    "import torch.nn.functional as F\n",
    "\n",
    "def generate(rnn, prime_id, int_to_vocab, token_dict, pad_value, predict_len=100):\n",
    "    \"\"\"\n",
    "    Generate text using the neural network\n",
    "    :param decoder: The PyTorch Module that holds the trained neural network\n",
    "    :param prime_id: The word id to start the first prediction\n",
    "    :param int_to_vocab: Dict of word id keys to word values\n",
    "    :param token_dict: Dict of puncuation tokens keys to puncuation values\n",
    "    :param pad_value: The value used to pad a sequence\n",
    "    :param predict_len: The length of text to generate\n",
    "    :return: The generated text\n",
    "    \"\"\"\n",
    "    rnn.eval()\n",
    "    \n",
    "    # create a sequence (batch_size=1) with the prime_id\n",
    "    current_seq = np.full((1, sequence_length), pad_value)\n",
    "    current_seq[-1][-1] = prime_id\n",
    "    predicted = [int_to_vocab[prime_id]]\n",
    "    \n",
    "    for _ in range(predict_len):\n",
    "        if train_on_gpu:\n",
    "            current_seq = torch.LongTensor(current_seq).cuda()\n",
    "        else:\n",
    "            current_seq = torch.LongTensor(current_seq)\n",
    "        \n",
    "        # initialize the hidden state\n",
    "        hidden = rnn.init_hidden(current_seq.size(0))\n",
    "        \n",
    "        # get the output of the rnn\n",
    "        output, _ = rnn(current_seq, hidden)\n",
    "        \n",
    "        # get the next word probabilities\n",
    "        p = F.softmax(output, dim=1).data\n",
    "        if(train_on_gpu):\n",
    "            p = p.cpu() # move to cpu\n",
    "         \n",
    "        # use top_k sampling to get the index of the next word\n",
    "        top_k = 5\n",
    "        p, top_i = p.topk(top_k)\n",
    "        top_i = top_i.numpy().squeeze()\n",
    "        \n",
    "        # select the likely next word index with some element of randomness\n",
    "        p = p.numpy().squeeze()\n",
    "        word_i = np.random.choice(top_i, p=p/p.sum())\n",
    "        \n",
    "        # retrieve that word from the dictionary\n",
    "        word = int_to_vocab[word_i]\n",
    "        predicted.append(word)     \n",
    "        \n",
    "        # the generated word becomes the next \"current sequence\" and the cycle can continue\n",
    "        if train_on_gpu:\n",
    "            current_seq = current_seq.cpu()\n",
    "\n",
    "        current_seq = np.roll(current_seq, -1, 1)\n",
    "        current_seq[-1][-1] = word_i\n",
    "    \n",
    "    gen_sentences = ' '.join(predicted)\n",
    "    \n",
    "    # Replace punctuation tokens\n",
    "    for key, token in token_dict.items():\n",
    "        ending = ' ' if key in ['\\n', '(', '\"'] else ''\n",
    "        gen_sentences = gen_sentences.replace(' ' + token.lower(), key)\n",
    "    gen_sentences = gen_sentences.replace('\\n ', '\\n')\n",
    "    gen_sentences = gen_sentences.replace('( ', '(')\n",
    "    \n",
    "    # return all the sentences\n",
    "    return gen_sentences"
   ]
  },
  {
   "cell_type": "markdown",
   "metadata": {
    "colab_type": "text",
    "id": "gqnorDHM4UPK"
   },
   "source": [
    "### Generate a New Script\n",
    "It's time to generate the text. Set `gen_length` to the length of TV script you want to generate and set `prime_word` to one of the following to start the prediction:\n",
    "- \"jerry\"\n",
    "- \"elaine\"\n",
    "- \"george\"\n",
    "- \"kramer\"\n",
    "\n",
    "You can set the prime word to _any word_ in our dictionary, but it's best to start with a name for generating a TV script. (You can also start with any other names you find in the original text file!)"
   ]
  },
  {
   "cell_type": "code",
   "execution_count": 21,
   "metadata": {
    "colab": {
     "base_uri": "https://localhost:8080/",
     "height": 986
    },
    "colab_type": "code",
    "id": "wb6Azgms4UPL",
    "outputId": "f8435d88-250f-4eed-eaa9-368f935251f9"
   },
   "outputs": [
    {
     "name": "stdout",
     "output_type": "stream",
     "text": [
      "jerry: jerry: individuals imminent.\n",
      "\n",
      "elaine: yeah, i don't know.\n",
      "\n",
      "jerry: i don't want to know what you do.\n",
      "\n",
      "george: i thought you were going to have to get some more.\n",
      "\n",
      "kramer: yeah.\n",
      "\n",
      "elaine: oh! well, you know i was wondering if you could go to the movies.(jerry enters)\n",
      "\n",
      "george: hey, how you going to get some food.\n",
      "\n",
      "elaine: well, you know... i think i'm not gonna get this..(he leaves.)\n",
      "\n",
      "kramer: yeah, yeah.\n",
      "\n",
      "george: i know.\n",
      "\n",
      "elaine: well, you know, i don't even have to do this, i don't even know what to do.\n",
      "\n",
      "elaine: i don't know. you know, i don't want to be able to get a new sofa.\n",
      "\n",
      "jerry: oh, you know...\n",
      "\n",
      "jerry:(to jerry) hey, what are you talking about?\n",
      "\n",
      "kramer:(to jerry) hey, i got some sort of stuff.\n",
      "\n",
      "jerry:(confused) what?\n",
      "\n",
      "george: well, i'm sorry, i'm sorry.(to kramer) so what are you talking about?\n",
      "\n",
      "jerry: i don't even know if you could get out of this thing.(jerry looks like a woman and i have to go to the hospital, i'm not getting the ticket, jerry, you gotta get me some fruit?\n",
      "\n",
      "elaine: no, i don't want to go.\n",
      "\n",
      "george: you know, it's not a little thing. i don't want to talk, jerry.\n",
      "\n",
      "jerry: i don't know.\n",
      "\n",
      "george: what about that?\n",
      "\n",
      "george:(confused and laughs) oh!\n",
      "\n",
      "elaine: what are you gonna do?\n",
      "\n",
      "george: i don't know.\n",
      "\n",
      "george: well, you know, it's the only one.\n",
      "\n",
      "jerry: i thought we were in the city.(george enters)\n",
      "\n",
      "jerry:(pause) i didn't say hi.\n",
      "\n",
      "george: hey, i got a\n"
     ]
    }
   ],
   "source": [
    "# run the cell multiple times to get different results!\n",
    "gen_length = 400 # modify the length to your preference\n",
    "prime_word = 'jerry' # name for starting the script\n",
    "\n",
    "\"\"\"\n",
    "DON'T MODIFY ANYTHING IN THIS CELL THAT IS BELOW THIS LINE\n",
    "\"\"\"\n",
    "pad_word = helper.SPECIAL_WORDS['PADDING']\n",
    "generated_script = generate(trained_rnn, vocab_to_int[prime_word + ':'], int_to_vocab, token_dict, vocab_to_int[pad_word], gen_length)\n",
    "print(generated_script)"
   ]
  },
  {
   "cell_type": "markdown",
   "metadata": {
    "colab_type": "text",
    "id": "uiuZV93k4UPO"
   },
   "source": [
    "#### Save your favorite scripts\n",
    "\n",
    "Once you have a script that you like (or find interesting), save it to a text file!"
   ]
  },
  {
   "cell_type": "code",
   "execution_count": 22,
   "metadata": {
    "colab": {},
    "colab_type": "code",
    "id": "tmegJPoq4UPP"
   },
   "outputs": [],
   "source": [
    "# save script to a text file\n",
    "f =  open(\"generated_script_4.txt\",\"w\")\n",
    "f.write(generated_script)\n",
    "f.close()"
   ]
  },
  {
   "cell_type": "markdown",
   "metadata": {
    "colab_type": "text",
    "id": "BFdZT22X4UPT"
   },
   "source": [
    "# The TV Script is Not Perfect\n",
    "It's ok if the TV script doesn't make perfect sense. It should look like alternating lines of dialogue, here is one such example of a few generated lines.\n",
    "\n",
    "### Example generated script\n",
    "\n",
    ">jerry: what about me?\n",
    ">\n",
    ">jerry: i don't have to wait.\n",
    ">\n",
    ">kramer:(to the sales table)\n",
    ">\n",
    ">elaine:(to jerry) hey, look at this, i'm a good doctor.\n",
    ">\n",
    ">newman:(to elaine) you think i have no idea of this...\n",
    ">\n",
    ">elaine: oh, you better take the phone, and he was a little nervous.\n",
    ">\n",
    ">kramer:(to the phone) hey, hey, jerry, i don't want to be a little bit.(to kramer and jerry) you can't.\n",
    ">\n",
    ">jerry: oh, yeah. i don't even know, i know.\n",
    ">\n",
    ">jerry:(to the phone) oh, i know.\n",
    ">\n",
    ">kramer:(laughing) you know...(to jerry) you don't know.\n",
    "\n",
    "You can see that there are multiple characters that say (somewhat) complete sentences, but it doesn't have to be perfect! It takes quite a while to get good results, and often, you'll have to use a smaller vocabulary (and discard uncommon words), or get more data.  The Seinfeld dataset is about 3.4 MB, which is big enough for our purposes; for script generation you'll want more than 1 MB of text, generally. \n",
    "\n",
    "# Submitting This Project\n",
    "When submitting this project, make sure to run all the cells before saving the notebook. Save the notebook file as \"dlnd_tv_script_generation.ipynb\" and save another copy as an HTML file by clicking \"File\" -> \"Download as..\"->\"html\". Include the \"helper.py\" and \"problem_unittests.py\" files in your submission. Once you download these files, compress them into one zip file for submission."
   ]
  }
 ],
 "metadata": {
  "accelerator": "GPU",
  "colab": {
   "collapsed_sections": [],
   "name": "dlnd_tv_script_generation.ipynb",
   "provenance": []
  },
  "kernelspec": {
   "display_name": "Python 3",
   "language": "python",
   "name": "python3"
  },
  "language_info": {
   "codemirror_mode": {
    "name": "ipython",
    "version": 3
   },
   "file_extension": ".py",
   "mimetype": "text/x-python",
   "name": "python",
   "nbconvert_exporter": "python",
   "pygments_lexer": "ipython3",
   "version": "3.6.3"
  }
 },
 "nbformat": 4,
 "nbformat_minor": 1
}
